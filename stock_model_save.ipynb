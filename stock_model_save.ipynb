{
 "cells": [
  {
   "cell_type": "code",
   "execution_count": null,
   "metadata": {
    "cell_id": "56729e9d-119b-4024-b07f-984307cd60db",
    "deepnote_cell_height": 746,
    "deepnote_cell_type": "code",
    "deepnote_to_be_reexecuted": false,
    "execution_millis": 13255,
    "execution_start": 1650341219076,
    "source_hash": "780d257a",
    "tags": []
   },
   "outputs": [
    {
     "name": "stdout",
     "output_type": "stream",
     "text": [
      "Collecting streamlit==1.8.1\n",
      "  Downloading streamlit-1.8.1-py2.py3-none-any.whl (10.1 MB)\n",
      "\u001b[K     |████████████████████████████████| 10.1 MB 28.9 MB/s \n",
      "\u001b[?25hRequirement already satisfied: packaging in /shared-libs/python3.7/py-core/lib/python3.7/site-packages (from streamlit==1.8.1) (21.3)\n",
      "Collecting gitpython!=3.1.19\n",
      "  Downloading GitPython-3.1.27-py3-none-any.whl (181 kB)\n",
      "\u001b[K     |████████████████████████████████| 181 kB 52.5 MB/s \n",
      "\u001b[?25hRequirement already satisfied: importlib-metadata>=1.4 in /shared-libs/python3.7/py-core/lib/python3.7/site-packages (from streamlit==1.8.1) (4.11.3)\n",
      "Collecting tzlocal\n",
      "  Downloading tzlocal-4.2-py3-none-any.whl (19 kB)\n",
      "Requirement already satisfied: pillow>=6.2.0 in /shared-libs/python3.7/py/lib/python3.7/site-packages (from streamlit==1.8.1) (9.0.1)\n",
      "Collecting watchdog; platform_system != \"Darwin\"\n",
      "  Downloading watchdog-2.1.7-py3-none-manylinux2014_x86_64.whl (76 kB)\n",
      "\u001b[K     |████████████████████████████████| 76 kB 10.4 MB/s \n",
      "\u001b[?25hRequirement already satisfied: click<8.1,>=7.0 in /shared-libs/python3.7/py/lib/python3.7/site-packages (from streamlit==1.8.1) (8.0.4)\n",
      "Requirement already satisfied: python-dateutil in /shared-libs/python3.7/py-core/lib/python3.7/site-packages (from streamlit==1.8.1) (2.8.2)\n",
      "Requirement already satisfied: requests in /shared-libs/python3.7/py/lib/python3.7/site-packages (from streamlit==1.8.1) (2.27.1)\n",
      "Collecting toml\n",
      "  Downloading toml-0.10.2-py2.py3-none-any.whl (16 kB)\n",
      "Collecting validators\n",
      "  Downloading validators-0.18.2-py3-none-any.whl (19 kB)\n",
      "Requirement already satisfied: tornado>=5.0 in /shared-libs/python3.7/py-core/lib/python3.7/site-packages (from streamlit==1.8.1) (6.1)\n",
      "Requirement already satisfied: typing-extensions; python_version < \"3.8\" in /shared-libs/python3.7/py-core/lib/python3.7/site-packages (from streamlit==1.8.1) (4.1.1)\n",
      "Requirement already satisfied: pandas>=0.21.0 in /shared-libs/python3.7/py/lib/python3.7/site-packages (from streamlit==1.8.1) (1.2.5)\n",
      "Requirement already satisfied: numpy in /shared-libs/python3.7/py/lib/python3.7/site-packages (from streamlit==1.8.1) (1.21.5)\n",
      "Requirement already satisfied: altair>=3.2.0 in /shared-libs/python3.7/py/lib/python3.7/site-packages (from streamlit==1.8.1) (4.1.0)\n",
      "Requirement already satisfied: attrs in /shared-libs/python3.7/py-core/lib/python3.7/site-packages (from streamlit==1.8.1) (21.4.0)\n",
      "Collecting blinker\n",
      "  Downloading blinker-1.4.tar.gz (111 kB)\n",
      "\u001b[K     |████████████████████████████████| 111 kB 93.5 MB/s \n",
      "\u001b[?25hRequirement already satisfied: cachetools>=4.0 in /shared-libs/python3.7/py/lib/python3.7/site-packages (from streamlit==1.8.1) (5.0.0)\n",
      "Collecting semver\n",
      "  Downloading semver-2.13.0-py2.py3-none-any.whl (12 kB)\n",
      "Collecting pydeck>=0.1.dev5\n",
      "  Downloading pydeck-0.7.1-py2.py3-none-any.whl (4.3 MB)\n",
      "\u001b[K     |████████████████████████████████| 4.3 MB 70.2 MB/s \n",
      "\u001b[?25hRequirement already satisfied: pyarrow in /shared-libs/python3.7/py/lib/python3.7/site-packages (from streamlit==1.8.1) (7.0.0)\n",
      "Collecting pympler>=0.9\n",
      "  Downloading Pympler-1.0.1-py3-none-any.whl (164 kB)\n",
      "\u001b[K     |████████████████████████████████| 164 kB 56.6 MB/s \n",
      "\u001b[?25hRequirement already satisfied: protobuf!=3.11,>=3.6.0 in /shared-libs/python3.7/py/lib/python3.7/site-packages (from streamlit==1.8.1) (3.19.4)\n",
      "Requirement already satisfied: pyparsing!=3.0.5,>=2.0.2 in /shared-libs/python3.7/py-core/lib/python3.7/site-packages (from packaging->streamlit==1.8.1) (3.0.7)\n",
      "Collecting gitdb<5,>=4.0.1\n",
      "  Downloading gitdb-4.0.9-py3-none-any.whl (63 kB)\n",
      "\u001b[K     |████████████████████████████████| 63 kB 4.5 MB/s \n",
      "\u001b[?25hRequirement already satisfied: zipp>=0.5 in /shared-libs/python3.7/py-core/lib/python3.7/site-packages (from importlib-metadata>=1.4->streamlit==1.8.1) (3.7.0)\n",
      "Collecting pytz-deprecation-shim\n",
      "  Downloading pytz_deprecation_shim-0.1.0.post0-py2.py3-none-any.whl (15 kB)\n",
      "Collecting backports.zoneinfo; python_version < \"3.9\"\n",
      "  Downloading backports.zoneinfo-0.2.1-cp37-cp37m-manylinux1_x86_64.whl (70 kB)\n",
      "\u001b[K     |████████████████████████████████| 70 kB 19.2 MB/s \n",
      "\u001b[?25hRequirement already satisfied: six>=1.5 in /shared-libs/python3.7/py-core/lib/python3.7/site-packages (from python-dateutil->streamlit==1.8.1) (1.16.0)\n",
      "Requirement already satisfied: charset-normalizer~=2.0.0; python_version >= \"3\" in /shared-libs/python3.7/py-core/lib/python3.7/site-packages (from requests->streamlit==1.8.1) (2.0.12)\n",
      "Requirement already satisfied: urllib3<1.27,>=1.21.1 in /shared-libs/python3.7/py/lib/python3.7/site-packages (from requests->streamlit==1.8.1) (1.26.9)\n",
      "Requirement already satisfied: idna<4,>=2.5; python_version >= \"3\" in /shared-libs/python3.7/py-core/lib/python3.7/site-packages (from requests->streamlit==1.8.1) (3.3)\n",
      "Requirement already satisfied: certifi>=2017.4.17 in /shared-libs/python3.7/py/lib/python3.7/site-packages (from requests->streamlit==1.8.1) (2021.10.8)\n",
      "Requirement already satisfied: decorator>=3.4.0 in /shared-libs/python3.7/py-core/lib/python3.7/site-packages (from validators->streamlit==1.8.1) (5.1.1)\n",
      "Requirement already satisfied: pytz>=2017.3 in /shared-libs/python3.7/py/lib/python3.7/site-packages (from pandas>=0.21.0->streamlit==1.8.1) (2022.1)\n",
      "Requirement already satisfied: entrypoints in /shared-libs/python3.7/py-core/lib/python3.7/site-packages (from altair>=3.2.0->streamlit==1.8.1) (0.4)\n",
      "Requirement already satisfied: jinja2 in /shared-libs/python3.7/py-core/lib/python3.7/site-packages (from altair>=3.2.0->streamlit==1.8.1) (3.0.3)\n",
      "Requirement already satisfied: toolz in /shared-libs/python3.7/py/lib/python3.7/site-packages (from altair>=3.2.0->streamlit==1.8.1) (0.11.2)\n",
      "Requirement already satisfied: jsonschema in /shared-libs/python3.7/py-core/lib/python3.7/site-packages (from altair>=3.2.0->streamlit==1.8.1) (3.2.0)\n",
      "Collecting ipywidgets>=7.0.0\n",
      "  Downloading ipywidgets-7.7.0-py2.py3-none-any.whl (123 kB)\n",
      "\u001b[K     |████████████████████████████████| 123 kB 83.8 MB/s \n",
      "\u001b[?25hRequirement already satisfied: traitlets>=4.3.2 in /shared-libs/python3.7/py-core/lib/python3.7/site-packages (from pydeck>=0.1.dev5->streamlit==1.8.1) (4.3.3)\n",
      "Requirement already satisfied: ipykernel>=5.1.2; python_version >= \"3.4\" in /shared-libs/python3.7/py-core/lib/python3.7/site-packages (from pydeck>=0.1.dev5->streamlit==1.8.1) (5.5.5)\n",
      "Collecting smmap<6,>=3.0.1\n",
      "  Downloading smmap-5.0.0-py3-none-any.whl (24 kB)\n",
      "Collecting tzdata; python_version >= \"3.6\"\n",
      "  Downloading tzdata-2022.1-py2.py3-none-any.whl (339 kB)\n",
      "\u001b[K     |████████████████████████████████| 339 kB 63.9 MB/s \n",
      "\u001b[?25hRequirement already satisfied: MarkupSafe>=2.0 in /shared-libs/python3.7/py-core/lib/python3.7/site-packages (from jinja2->altair>=3.2.0->streamlit==1.8.1) (2.1.1)\n",
      "Requirement already satisfied: setuptools in /root/venv/lib/python3.7/site-packages (from jsonschema->altair>=3.2.0->streamlit==1.8.1) (47.1.0)\n",
      "Requirement already satisfied: pyrsistent>=0.14.0 in /shared-libs/python3.7/py-core/lib/python3.7/site-packages (from jsonschema->altair>=3.2.0->streamlit==1.8.1) (0.18.1)\n",
      "Requirement already satisfied: nbformat>=4.2.0 in /shared-libs/python3.7/py-core/lib/python3.7/site-packages (from ipywidgets>=7.0.0->pydeck>=0.1.dev5->streamlit==1.8.1) (5.1.3)\n",
      "Collecting widgetsnbextension~=3.6.0\n",
      "  Downloading widgetsnbextension-3.6.0-py2.py3-none-any.whl (1.6 MB)\n",
      "\u001b[K     |████████████████████████████████| 1.6 MB 72.9 MB/s \n",
      "\u001b[?25hRequirement already satisfied: ipython-genutils~=0.2.0 in /shared-libs/python3.7/py-core/lib/python3.7/site-packages (from ipywidgets>=7.0.0->pydeck>=0.1.dev5->streamlit==1.8.1) (0.2.0)\n",
      "Collecting jupyterlab-widgets>=1.0.0; python_version >= \"3.6\"\n",
      "  Downloading jupyterlab_widgets-1.1.0-py3-none-any.whl (245 kB)\n",
      "\u001b[K     |████████████████████████████████| 245 kB 76.7 MB/s \n",
      "\u001b[?25hRequirement already satisfied: ipython>=4.0.0; python_version >= \"3.3\" in /shared-libs/python3.7/py-core/lib/python3.7/site-packages (from ipywidgets>=7.0.0->pydeck>=0.1.dev5->streamlit==1.8.1) (7.32.0)\n",
      "Requirement already satisfied: jupyter-client in /shared-libs/python3.7/py-core/lib/python3.7/site-packages (from ipykernel>=5.1.2; python_version >= \"3.4\"->pydeck>=0.1.dev5->streamlit==1.8.1) (6.1.12)\n",
      "Requirement already satisfied: jupyter-core in /shared-libs/python3.7/py-core/lib/python3.7/site-packages (from nbformat>=4.2.0->ipywidgets>=7.0.0->pydeck>=0.1.dev5->streamlit==1.8.1) (4.7.1)\n",
      "Requirement already satisfied: notebook>=4.4.1 in /shared-libs/python3.7/py-core/lib/python3.7/site-packages (from widgetsnbextension~=3.6.0->ipywidgets>=7.0.0->pydeck>=0.1.dev5->streamlit==1.8.1) (6.3.0)\n",
      "Requirement already satisfied: pexpect>4.3; sys_platform != \"win32\" in /shared-libs/python3.7/py-core/lib/python3.7/site-packages (from ipython>=4.0.0; python_version >= \"3.3\"->ipywidgets>=7.0.0->pydeck>=0.1.dev5->streamlit==1.8.1) (4.8.0)\n",
      "Requirement already satisfied: backcall in /shared-libs/python3.7/py-core/lib/python3.7/site-packages (from ipython>=4.0.0; python_version >= \"3.3\"->ipywidgets>=7.0.0->pydeck>=0.1.dev5->streamlit==1.8.1) (0.2.0)\n",
      "Requirement already satisfied: matplotlib-inline in /shared-libs/python3.7/py-core/lib/python3.7/site-packages (from ipython>=4.0.0; python_version >= \"3.3\"->ipywidgets>=7.0.0->pydeck>=0.1.dev5->streamlit==1.8.1) (0.1.3)\n",
      "Requirement already satisfied: pickleshare in /shared-libs/python3.7/py-core/lib/python3.7/site-packages (from ipython>=4.0.0; python_version >= \"3.3\"->ipywidgets>=7.0.0->pydeck>=0.1.dev5->streamlit==1.8.1) (0.7.5)\n",
      "Requirement already satisfied: jedi>=0.16 in /shared-libs/python3.7/py-core/lib/python3.7/site-packages (from ipython>=4.0.0; python_version >= \"3.3\"->ipywidgets>=7.0.0->pydeck>=0.1.dev5->streamlit==1.8.1) (0.17.2)\n",
      "Requirement already satisfied: pygments in /shared-libs/python3.7/py-core/lib/python3.7/site-packages (from ipython>=4.0.0; python_version >= \"3.3\"->ipywidgets>=7.0.0->pydeck>=0.1.dev5->streamlit==1.8.1) (2.11.2)\n",
      "Requirement already satisfied: prompt-toolkit!=3.0.0,!=3.0.1,<3.1.0,>=2.0.0 in /shared-libs/python3.7/py-core/lib/python3.7/site-packages (from ipython>=4.0.0; python_version >= \"3.3\"->ipywidgets>=7.0.0->pydeck>=0.1.dev5->streamlit==1.8.1) (3.0.28)\n",
      "Requirement already satisfied: pyzmq>=13 in /shared-libs/python3.7/py-core/lib/python3.7/site-packages (from jupyter-client->ipykernel>=5.1.2; python_version >= \"3.4\"->pydeck>=0.1.dev5->streamlit==1.8.1) (22.3.0)\n",
      "Requirement already satisfied: argon2-cffi in /shared-libs/python3.7/py-core/lib/python3.7/site-packages (from notebook>=4.4.1->widgetsnbextension~=3.6.0->ipywidgets>=7.0.0->pydeck>=0.1.dev5->streamlit==1.8.1) (21.3.0)\n",
      "Requirement already satisfied: nbconvert==6.0.7 in /shared-libs/python3.7/py-core/lib/python3.7/site-packages (from notebook>=4.4.1->widgetsnbextension~=3.6.0->ipywidgets>=7.0.0->pydeck>=0.1.dev5->streamlit==1.8.1) (6.0.7)\n",
      "Requirement already satisfied: terminado>=0.8.3 in /shared-libs/python3.7/py-core/lib/python3.7/site-packages (from notebook>=4.4.1->widgetsnbextension~=3.6.0->ipywidgets>=7.0.0->pydeck>=0.1.dev5->streamlit==1.8.1) (0.13.3)\n",
      "Requirement already satisfied: prometheus-client in /shared-libs/python3.7/py-core/lib/python3.7/site-packages (from notebook>=4.4.1->widgetsnbextension~=3.6.0->ipywidgets>=7.0.0->pydeck>=0.1.dev5->streamlit==1.8.1) (0.13.1)\n",
      "Requirement already satisfied: Send2Trash>=1.5.0 in /shared-libs/python3.7/py-core/lib/python3.7/site-packages (from notebook>=4.4.1->widgetsnbextension~=3.6.0->ipywidgets>=7.0.0->pydeck>=0.1.dev5->streamlit==1.8.1) (1.8.0)\n",
      "Requirement already satisfied: ptyprocess>=0.5 in /shared-libs/python3.7/py-core/lib/python3.7/site-packages (from pexpect>4.3; sys_platform != \"win32\"->ipython>=4.0.0; python_version >= \"3.3\"->ipywidgets>=7.0.0->pydeck>=0.1.dev5->streamlit==1.8.1) (0.7.0)\n",
      "Requirement already satisfied: parso<0.8.0,>=0.7.0 in /shared-libs/python3.7/py-core/lib/python3.7/site-packages (from jedi>=0.16->ipython>=4.0.0; python_version >= \"3.3\"->ipywidgets>=7.0.0->pydeck>=0.1.dev5->streamlit==1.8.1) (0.7.1)\n",
      "Requirement already satisfied: wcwidth in /shared-libs/python3.7/py-core/lib/python3.7/site-packages (from prompt-toolkit!=3.0.0,!=3.0.1,<3.1.0,>=2.0.0->ipython>=4.0.0; python_version >= \"3.3\"->ipywidgets>=7.0.0->pydeck>=0.1.dev5->streamlit==1.8.1) (0.2.5)\n",
      "Requirement already satisfied: argon2-cffi-bindings in /shared-libs/python3.7/py-core/lib/python3.7/site-packages (from argon2-cffi->notebook>=4.4.1->widgetsnbextension~=3.6.0->ipywidgets>=7.0.0->pydeck>=0.1.dev5->streamlit==1.8.1) (21.2.0)\n",
      "Requirement already satisfied: nbclient<0.6.0,>=0.5.0 in /shared-libs/python3.7/py-core/lib/python3.7/site-packages (from nbconvert==6.0.7->notebook>=4.4.1->widgetsnbextension~=3.6.0->ipywidgets>=7.0.0->pydeck>=0.1.dev5->streamlit==1.8.1) (0.5.9)\n",
      "Requirement already satisfied: pandocfilters>=1.4.1 in /shared-libs/python3.7/py-core/lib/python3.7/site-packages (from nbconvert==6.0.7->notebook>=4.4.1->widgetsnbextension~=3.6.0->ipywidgets>=7.0.0->pydeck>=0.1.dev5->streamlit==1.8.1) (1.5.0)\n",
      "Requirement already satisfied: mistune<2,>=0.8.1 in /shared-libs/python3.7/py-core/lib/python3.7/site-packages (from nbconvert==6.0.7->notebook>=4.4.1->widgetsnbextension~=3.6.0->ipywidgets>=7.0.0->pydeck>=0.1.dev5->streamlit==1.8.1) (0.8.4)\n",
      "Requirement already satisfied: testpath in /shared-libs/python3.7/py-core/lib/python3.7/site-packages (from nbconvert==6.0.7->notebook>=4.4.1->widgetsnbextension~=3.6.0->ipywidgets>=7.0.0->pydeck>=0.1.dev5->streamlit==1.8.1) (0.6.0)\n",
      "Requirement already satisfied: defusedxml in /shared-libs/python3.7/py-core/lib/python3.7/site-packages (from nbconvert==6.0.7->notebook>=4.4.1->widgetsnbextension~=3.6.0->ipywidgets>=7.0.0->pydeck>=0.1.dev5->streamlit==1.8.1) (0.7.1)\n",
      "Requirement already satisfied: jupyterlab-pygments in /shared-libs/python3.7/py-core/lib/python3.7/site-packages (from nbconvert==6.0.7->notebook>=4.4.1->widgetsnbextension~=3.6.0->ipywidgets>=7.0.0->pydeck>=0.1.dev5->streamlit==1.8.1) (0.1.2)\n",
      "Requirement already satisfied: bleach in /shared-libs/python3.7/py-core/lib/python3.7/site-packages (from nbconvert==6.0.7->notebook>=4.4.1->widgetsnbextension~=3.6.0->ipywidgets>=7.0.0->pydeck>=0.1.dev5->streamlit==1.8.1) (4.1.0)\n",
      "Requirement already satisfied: cffi>=1.0.1 in /shared-libs/python3.7/py-core/lib/python3.7/site-packages (from argon2-cffi-bindings->argon2-cffi->notebook>=4.4.1->widgetsnbextension~=3.6.0->ipywidgets>=7.0.0->pydeck>=0.1.dev5->streamlit==1.8.1) (1.15.0)\n",
      "Requirement already satisfied: nest-asyncio in /shared-libs/python3.7/py-core/lib/python3.7/site-packages (from nbclient<0.6.0,>=0.5.0->nbconvert==6.0.7->notebook>=4.4.1->widgetsnbextension~=3.6.0->ipywidgets>=7.0.0->pydeck>=0.1.dev5->streamlit==1.8.1) (1.5.4)\n",
      "Requirement already satisfied: webencodings in /shared-libs/python3.7/py-core/lib/python3.7/site-packages (from bleach->nbconvert==6.0.7->notebook>=4.4.1->widgetsnbextension~=3.6.0->ipywidgets>=7.0.0->pydeck>=0.1.dev5->streamlit==1.8.1) (0.5.1)\n",
      "Requirement already satisfied: pycparser in /shared-libs/python3.7/py-core/lib/python3.7/site-packages (from cffi>=1.0.1->argon2-cffi-bindings->argon2-cffi->notebook>=4.4.1->widgetsnbextension~=3.6.0->ipywidgets>=7.0.0->pydeck>=0.1.dev5->streamlit==1.8.1) (2.21)\n",
      "Building wheels for collected packages: blinker\n",
      "  Building wheel for blinker (setup.py) ... \u001b[?25ldone\n",
      "\u001b[?25h  Created wheel for blinker: filename=blinker-1.4-py3-none-any.whl size=13451 sha256=8f19b22427f885f6570001ab20733801d7ec2893985b376319d92cda4e701b77\n",
      "  Stored in directory: /root/.cache/pip/wheels/22/f5/18/df711b66eb25b21325c132757d4314db9ac5e8dabeaf196eab\n",
      "Successfully built blinker\n",
      "Installing collected packages: smmap, gitdb, gitpython, backports.zoneinfo, tzdata, pytz-deprecation-shim, tzlocal, watchdog, toml, validators, blinker, semver, widgetsnbextension, jupyterlab-widgets, ipywidgets, pydeck, pympler, streamlit\n",
      "Successfully installed backports.zoneinfo-0.2.1 blinker-1.4 gitdb-4.0.9 gitpython-3.1.27 ipywidgets-7.7.0 jupyterlab-widgets-1.1.0 pydeck-0.7.1 pympler-1.0.1 pytz-deprecation-shim-0.1.0.post0 semver-2.13.0 smmap-5.0.0 streamlit-1.8.1 toml-0.10.2 tzdata-2022.1 tzlocal-4.2 validators-0.18.2 watchdog-2.1.7 widgetsnbextension-3.6.0\n",
      "\u001b[33mWARNING: You are using pip version 20.1.1; however, version 22.0.4 is available.\n",
      "You should consider upgrading via the '/root/venv/bin/python -m pip install --upgrade pip' command.\u001b[0m\n"
     ]
    }
   ],
   "source": [
    "!pip install streamlit==1.8.1"
   ]
  },
  {
   "cell_type": "code",
   "execution_count": null,
   "metadata": {
    "cell_id": "00001-d0bd153d-7812-42ea-b972-5ca1c848de6c",
    "deepnote_cell_height": 625.5,
    "deepnote_cell_type": "code",
    "deepnote_to_be_reexecuted": false,
    "execution_millis": 4149,
    "execution_start": 1650341285258,
    "source_hash": "2725d218",
    "tags": []
   },
   "outputs": [
    {
     "name": "stdout",
     "output_type": "stream",
     "text": [
      "Collecting yfinance==0.1.70\n",
      "  Downloading yfinance-0.1.70-py2.py3-none-any.whl (26 kB)\n",
      "Requirement already satisfied: pandas>=0.24.0 in /shared-libs/python3.7/py/lib/python3.7/site-packages (from yfinance==0.1.70) (1.2.5)\n",
      "Collecting multitasking>=0.0.7\n",
      "  Downloading multitasking-0.0.10.tar.gz (8.2 kB)\n",
      "Requirement already satisfied: lxml>=4.5.1 in /shared-libs/python3.7/py/lib/python3.7/site-packages (from yfinance==0.1.70) (4.8.0)\n",
      "Requirement already satisfied: numpy>=1.15 in /shared-libs/python3.7/py/lib/python3.7/site-packages (from yfinance==0.1.70) (1.21.5)\n",
      "Requirement already satisfied: requests>=2.26 in /shared-libs/python3.7/py/lib/python3.7/site-packages (from yfinance==0.1.70) (2.27.1)\n",
      "Requirement already satisfied: pytz>=2017.3 in /shared-libs/python3.7/py/lib/python3.7/site-packages (from pandas>=0.24.0->yfinance==0.1.70) (2022.1)\n",
      "Requirement already satisfied: python-dateutil>=2.7.3 in /shared-libs/python3.7/py-core/lib/python3.7/site-packages (from pandas>=0.24.0->yfinance==0.1.70) (2.8.2)\n",
      "Requirement already satisfied: certifi>=2017.4.17 in /shared-libs/python3.7/py/lib/python3.7/site-packages (from requests>=2.26->yfinance==0.1.70) (2021.10.8)\n",
      "Requirement already satisfied: idna<4,>=2.5; python_version >= \"3\" in /shared-libs/python3.7/py-core/lib/python3.7/site-packages (from requests>=2.26->yfinance==0.1.70) (3.3)\n",
      "Requirement already satisfied: charset-normalizer~=2.0.0; python_version >= \"3\" in /shared-libs/python3.7/py-core/lib/python3.7/site-packages (from requests>=2.26->yfinance==0.1.70) (2.0.12)\n",
      "Requirement already satisfied: urllib3<1.27,>=1.21.1 in /shared-libs/python3.7/py/lib/python3.7/site-packages (from requests>=2.26->yfinance==0.1.70) (1.26.9)\n",
      "Requirement already satisfied: six>=1.5 in /shared-libs/python3.7/py-core/lib/python3.7/site-packages (from python-dateutil>=2.7.3->pandas>=0.24.0->yfinance==0.1.70) (1.16.0)\n",
      "Building wheels for collected packages: multitasking\n",
      "  Building wheel for multitasking (setup.py) ... \u001b[?25ldone\n",
      "\u001b[?25h  Created wheel for multitasking: filename=multitasking-0.0.10-py3-none-any.whl size=8489 sha256=7b27a683c5a5ab5c98ecf0a2cefc841cd0b7606277fcfaff3ee013085a73e4e8\n",
      "  Stored in directory: /root/.cache/pip/wheels/34/ba/79/c0260c6f1a03f420ec7673eff9981778f293b9107974679e36\n",
      "Successfully built multitasking\n",
      "Installing collected packages: multitasking, yfinance\n",
      "Successfully installed multitasking-0.0.10 yfinance-0.1.70\n",
      "\u001b[33mWARNING: You are using pip version 20.1.1; however, version 22.0.4 is available.\n",
      "You should consider upgrading via the '/root/venv/bin/python -m pip install --upgrade pip' command.\u001b[0m\n"
     ]
    }
   ],
   "source": [
    "!pip install yfinance==0.1.70"
   ]
  },
  {
   "cell_type": "code",
   "execution_count": null,
   "metadata": {
    "cell_id": "00002-2ded34b1-15d1-4221-92a6-5a2528a915a9",
    "deepnote_cell_height": 701,
    "deepnote_cell_type": "code",
    "deepnote_to_be_reexecuted": false,
    "execution_millis": 59844,
    "execution_start": 1650341291650,
    "source_hash": "73731cce",
    "tags": []
   },
   "outputs": [
    {
     "name": "stdout",
     "output_type": "stream",
     "text": [
      "Collecting pycaret==2.3.10\n",
      "  Downloading pycaret-2.3.10-py3-none-any.whl (320 kB)\n",
      "\u001b[K     |████████████████████████████████| 320 kB 32.5 MB/s \n",
      "\u001b[?25hRequirement already satisfied: textblob in /shared-libs/python3.7/py/lib/python3.7/site-packages (from pycaret==2.3.10) (0.17.1)\n",
      "Collecting mlxtend>=0.17.0\n",
      "  Downloading mlxtend-0.19.0-py2.py3-none-any.whl (1.3 MB)\n",
      "\u001b[K     |████████████████████████████████| 1.3 MB 76.3 MB/s \n",
      "\u001b[?25hCollecting scikit-learn==0.23.2\n",
      "  Downloading scikit_learn-0.23.2-cp37-cp37m-manylinux1_x86_64.whl (6.8 MB)\n",
      "\u001b[K     |████████████████████████████████| 6.8 MB 54.6 MB/s \n",
      "\u001b[?25hRequirement already satisfied: seaborn in /shared-libs/python3.7/py/lib/python3.7/site-packages (from pycaret==2.3.10) (0.11.2)\n",
      "Requirement already satisfied: ipywidgets in /root/venv/lib/python3.7/site-packages (from pycaret==2.3.10) (7.7.0)\n",
      "Collecting umap-learn\n",
      "  Downloading umap-learn-0.5.3.tar.gz (88 kB)\n",
      "\u001b[K     |████████████████████████████████| 88 kB 17.0 MB/s \n",
      "\u001b[?25hCollecting scikit-plot\n",
      "  Downloading scikit_plot-0.3.7-py3-none-any.whl (33 kB)\n",
      "Collecting pyod\n",
      "  Downloading pyod-0.9.9.tar.gz (116 kB)\n",
      "\u001b[K     |████████████████████████████████| 116 kB 80.4 MB/s \n",
      "\u001b[?25hCollecting numba<0.55\n",
      "  Downloading numba-0.54.1-cp37-cp37m-manylinux2014_x86_64.manylinux_2_17_x86_64.whl (3.3 MB)\n",
      "\u001b[K     |████████████████████████████████| 3.3 MB 61.9 MB/s \n",
      "\u001b[?25hCollecting spacy<2.4.0\n",
      "  Downloading spacy-2.3.7-cp37-cp37m-manylinux_2_17_x86_64.manylinux2014_x86_64.whl (10.4 MB)\n",
      "\u001b[K     |████████████████████████████████| 10.4 MB 76.0 MB/s \n",
      "\u001b[?25hCollecting gensim<4.0.0\n",
      "  Downloading gensim-3.8.3-cp37-cp37m-manylinux1_x86_64.whl (24.2 MB)\n",
      "\u001b[K     |████████████████████████████████| 24.2 MB 54.3 MB/s \n",
      "\u001b[?25hCollecting cufflinks>=0.17.0\n",
      "  Downloading cufflinks-0.17.3.tar.gz (81 kB)\n",
      "\u001b[K     |████████████████████████████████| 81 kB 20.6 MB/s \n",
      "\u001b[?25hCollecting scipy<=1.5.4\n",
      "  Downloading scipy-1.5.4-cp37-cp37m-manylinux1_x86_64.whl (25.9 MB)\n",
      "\u001b[K     |████████████████████████████████| 25.9 MB 54.5 MB/s \n",
      "\u001b[?25hCollecting lightgbm>=2.3.1\n",
      "  Downloading lightgbm-3.3.2-py3-none-manylinux1_x86_64.whl (2.0 MB)\n",
      "\u001b[K     |████████████████████████████████| 2.0 MB 50.3 MB/s \n",
      "\u001b[?25hRequirement already satisfied: joblib in /shared-libs/python3.7/py/lib/python3.7/site-packages (from pycaret==2.3.10) (1.1.0)\n",
      "Requirement already satisfied: matplotlib in /shared-libs/python3.7/py/lib/python3.7/site-packages (from pycaret==2.3.10) (3.5.1)\n",
      "Collecting mlflow\n",
      "  Downloading mlflow-1.25.1-py3-none-any.whl (16.8 MB)\n",
      "\u001b[K     |████████████████████████████████| 16.8 MB 53.8 MB/s \n",
      "\u001b[?25hRequirement already satisfied: plotly>=4.4.1 in /shared-libs/python3.7/py/lib/python3.7/site-packages (from pycaret==2.3.10) (5.6.0)\n",
      "Collecting kmodes>=0.10.1\n",
      "  Downloading kmodes-0.12.1-py2.py3-none-any.whl (20 kB)\n",
      "Collecting pyLDAvis\n",
      "  Downloading pyLDAvis-3.3.1.tar.gz (1.7 MB)\n",
      "\u001b[K     |████████████████████████████████| 1.7 MB 55.5 MB/s \n",
      "\u001b[?25h  Installing build dependencies ... \u001b[?25ldone\n",
      "\u001b[?25h  Getting requirements to build wheel ... \u001b[?25ldone\n",
      "\u001b[?25h  Installing backend dependencies ... \u001b[?25ldone\n",
      "\u001b[?25h    Preparing wheel metadata ... \u001b[?25ldone\n",
      "\u001b[?25hRequirement already satisfied: nltk in /shared-libs/python3.7/py/lib/python3.7/site-packages (from pycaret==2.3.10) (3.7)\n",
      "Collecting Boruta\n",
      "  Downloading Boruta-0.3-py3-none-any.whl (56 kB)\n",
      "\u001b[K     |████████████████████████████████| 56 kB 9.8 MB/s \n",
      "\u001b[?25hCollecting yellowbrick>=1.0.1\n",
      "  Downloading yellowbrick-1.4-py3-none-any.whl (274 kB)\n",
      "\u001b[K     |████████████████████████████████| 274 kB 80.2 MB/s \n",
      "\u001b[?25hCollecting imbalanced-learn==0.7.0\n",
      "  Downloading imbalanced_learn-0.7.0-py3-none-any.whl (167 kB)\n",
      "\u001b[K     |████████████████████████████████| 167 kB 90.8 MB/s \n",
      "\u001b[?25hRequirement already satisfied: IPython in /shared-libs/python3.7/py-core/lib/python3.7/site-packages (from pycaret==2.3.10) (7.32.0)\n",
      "Collecting pyyaml<6.0.0\n",
      "  Downloading PyYAML-5.4.1-cp37-cp37m-manylinux1_x86_64.whl (636 kB)\n",
      "\u001b[K     |████████████████████████████████| 636 kB 69.9 MB/s \n",
      "\u001b[?25hCollecting wordcloud\n",
      "  Downloading wordcloud-1.8.1-cp37-cp37m-manylinux1_x86_64.whl (366 kB)\n",
      "\u001b[K     |████████████████████████████████| 366 kB 74.0 MB/s \n",
      "\u001b[?25hCollecting pandas-profiling>=2.8.0\n",
      "  Downloading pandas_profiling-3.1.0-py2.py3-none-any.whl (261 kB)\n",
      "\u001b[K     |████████████████████████████████| 261 kB 81.7 MB/s \n",
      "\u001b[?25hRequirement already satisfied: pandas in /shared-libs/python3.7/py/lib/python3.7/site-packages (from pycaret==2.3.10) (1.2.5)\n",
      "Requirement already satisfied: numpy>=1.16.2 in /shared-libs/python3.7/py/lib/python3.7/site-packages (from mlxtend>=0.17.0->pycaret==2.3.10) (1.21.5)\n",
      "Requirement already satisfied: setuptools in /root/venv/lib/python3.7/site-packages (from mlxtend>=0.17.0->pycaret==2.3.10) (47.1.0)\n",
      "Requirement already satisfied: threadpoolctl>=2.0.0 in /shared-libs/python3.7/py/lib/python3.7/site-packages (from scikit-learn==0.23.2->pycaret==2.3.10) (3.1.0)\n",
      "Requirement already satisfied: ipykernel>=4.5.1 in /shared-libs/python3.7/py-core/lib/python3.7/site-packages (from ipywidgets->pycaret==2.3.10) (5.5.5)\n",
      "Requirement already satisfied: nbformat>=4.2.0 in /shared-libs/python3.7/py-core/lib/python3.7/site-packages (from ipywidgets->pycaret==2.3.10) (5.1.3)\n",
      "Requirement already satisfied: widgetsnbextension~=3.6.0 in /root/venv/lib/python3.7/site-packages (from ipywidgets->pycaret==2.3.10) (3.6.0)\n",
      "Requirement already satisfied: ipython-genutils~=0.2.0 in /shared-libs/python3.7/py-core/lib/python3.7/site-packages (from ipywidgets->pycaret==2.3.10) (0.2.0)\n",
      "Requirement already satisfied: jupyterlab-widgets>=1.0.0; python_version >= \"3.6\" in /root/venv/lib/python3.7/site-packages (from ipywidgets->pycaret==2.3.10) (1.1.0)\n",
      "Requirement already satisfied: traitlets>=4.3.1 in /shared-libs/python3.7/py-core/lib/python3.7/site-packages (from ipywidgets->pycaret==2.3.10) (4.3.3)\n",
      "Collecting pynndescent>=0.5\n",
      "  Downloading pynndescent-0.5.6.tar.gz (1.1 MB)\n",
      "\u001b[K     |████████████████████████████████| 1.1 MB 67.4 MB/s \n",
      "\u001b[?25hRequirement already satisfied: tqdm in /shared-libs/python3.7/py/lib/python3.7/site-packages (from umap-learn->pycaret==2.3.10) (4.63.0)\n",
      "Requirement already satisfied: six in /shared-libs/python3.7/py-core/lib/python3.7/site-packages (from pyod->pycaret==2.3.10) (1.16.0)\n",
      "Collecting statsmodels\n",
      "  Downloading statsmodels-0.13.2-cp37-cp37m-manylinux_2_17_x86_64.manylinux2014_x86_64.whl (9.8 MB)\n",
      "\u001b[K     |████████████████████████████████| 9.8 MB 25.3 MB/s \n",
      "\u001b[?25hCollecting llvmlite<0.38,>=0.37.0rc1\n",
      "  Downloading llvmlite-0.37.0-cp37-cp37m-manylinux2014_x86_64.whl (26.3 MB)\n",
      "\u001b[K     |████████████████████████████████| 26.3 MB 61.7 MB/s \n",
      "\u001b[?25hRequirement already satisfied: murmurhash<1.1.0,>=0.28.0 in /shared-libs/python3.7/py/lib/python3.7/site-packages (from spacy<2.4.0->pycaret==2.3.10) (1.0.6)\n",
      "Collecting thinc<7.5.0,>=7.4.1\n",
      "  Downloading thinc-7.4.5-cp37-cp37m-manylinux2014_x86_64.whl (1.0 MB)\n",
      "\u001b[K     |████████████████████████████████| 1.0 MB 61.2 MB/s \n",
      "\u001b[?25hRequirement already satisfied: requests<3.0.0,>=2.13.0 in /shared-libs/python3.7/py/lib/python3.7/site-packages (from spacy<2.4.0->pycaret==2.3.10) (2.27.1)\n",
      "Requirement already satisfied: wasabi<1.1.0,>=0.4.0 in /shared-libs/python3.7/py/lib/python3.7/site-packages (from spacy<2.4.0->pycaret==2.3.10) (0.9.0)\n",
      "Collecting srsly<1.1.0,>=1.0.2\n",
      "  Downloading srsly-1.0.5-cp37-cp37m-manylinux2014_x86_64.whl (184 kB)\n",
      "\u001b[K     |████████████████████████████████| 184 kB 74.1 MB/s \n",
      "\u001b[?25hCollecting plac<1.2.0,>=0.9.6\n",
      "  Downloading plac-1.1.3-py2.py3-none-any.whl (20 kB)\n",
      "Requirement already satisfied: cymem<2.1.0,>=2.0.2 in /shared-libs/python3.7/py/lib/python3.7/site-packages (from spacy<2.4.0->pycaret==2.3.10) (2.0.6)\n",
      "Requirement already satisfied: preshed<3.1.0,>=3.0.2 in /shared-libs/python3.7/py/lib/python3.7/site-packages (from spacy<2.4.0->pycaret==2.3.10) (3.0.6)\n",
      "Collecting catalogue<1.1.0,>=0.0.7\n",
      "  Downloading catalogue-1.0.0-py2.py3-none-any.whl (7.7 kB)\n",
      "Requirement already satisfied: blis<0.8.0,>=0.4.0 in /shared-libs/python3.7/py/lib/python3.7/site-packages (from spacy<2.4.0->pycaret==2.3.10) (0.7.7)\n",
      "Requirement already satisfied: smart-open>=1.8.1 in /shared-libs/python3.7/py/lib/python3.7/site-packages (from gensim<4.0.0->pycaret==2.3.10) (5.2.1)\n",
      "Collecting colorlover>=0.2.1\n",
      "  Downloading colorlover-0.3.0-py3-none-any.whl (8.9 kB)\n",
      "Requirement already satisfied: wheel in /usr/local/lib/python3.7/site-packages (from lightgbm>=2.3.1->pycaret==2.3.10) (0.37.0)\n",
      "Requirement already satisfied: pyparsing>=2.2.1 in /shared-libs/python3.7/py-core/lib/python3.7/site-packages (from matplotlib->pycaret==2.3.10) (3.0.7)\n",
      "Requirement already satisfied: packaging>=20.0 in /shared-libs/python3.7/py-core/lib/python3.7/site-packages (from matplotlib->pycaret==2.3.10) (21.3)\n",
      "Requirement already satisfied: kiwisolver>=1.0.1 in /shared-libs/python3.7/py/lib/python3.7/site-packages (from matplotlib->pycaret==2.3.10) (1.4.0)\n",
      "Requirement already satisfied: pillow>=6.2.0 in /shared-libs/python3.7/py/lib/python3.7/site-packages (from matplotlib->pycaret==2.3.10) (9.0.1)\n",
      "Requirement already satisfied: fonttools>=4.22.0 in /shared-libs/python3.7/py/lib/python3.7/site-packages (from matplotlib->pycaret==2.3.10) (4.31.2)\n",
      "Requirement already satisfied: python-dateutil>=2.7 in /shared-libs/python3.7/py-core/lib/python3.7/site-packages (from matplotlib->pycaret==2.3.10) (2.8.2)\n",
      "Requirement already satisfied: cycler>=0.10 in /shared-libs/python3.7/py/lib/python3.7/site-packages (from matplotlib->pycaret==2.3.10) (0.11.0)\n",
      "Collecting cloudpickle\n",
      "  Downloading cloudpickle-2.0.0-py3-none-any.whl (25 kB)\n",
      "Requirement already satisfied: click>=7.0 in /shared-libs/python3.7/py/lib/python3.7/site-packages (from mlflow->pycaret==2.3.10) (8.0.4)\n",
      "Collecting gunicorn; platform_system != \"Windows\"\n",
      "  Downloading gunicorn-20.1.0-py3-none-any.whl (79 kB)\n",
      "\u001b[K     |████████████████████████████████| 79 kB 17.5 MB/s \n",
      "\u001b[?25hRequirement already satisfied: entrypoints in /shared-libs/python3.7/py-core/lib/python3.7/site-packages (from mlflow->pycaret==2.3.10) (0.4)\n",
      "Requirement already satisfied: gitpython>=2.1.0 in /root/venv/lib/python3.7/site-packages (from mlflow->pycaret==2.3.10) (3.1.27)\n",
      "Requirement already satisfied: importlib-metadata!=4.7.0,>=3.7.0 in /shared-libs/python3.7/py-core/lib/python3.7/site-packages (from mlflow->pycaret==2.3.10) (4.11.3)\n",
      "Collecting docker>=4.0.0\n",
      "  Downloading docker-5.0.3-py2.py3-none-any.whl (146 kB)\n",
      "\u001b[K     |████████████████████████████████| 146 kB 73.1 MB/s \n",
      "\u001b[?25hCollecting alembic\n",
      "  Downloading alembic-1.7.7-py3-none-any.whl (210 kB)\n",
      "\u001b[K     |████████████████████████████████| 210 kB 73.7 MB/s \n",
      "\u001b[?25hRequirement already satisfied: sqlparse>=0.3.1 in /shared-libs/python3.7/py-core/lib/python3.7/site-packages (from mlflow->pycaret==2.3.10) (0.4.2)\n",
      "Collecting Flask\n",
      "  Downloading Flask-2.1.1-py3-none-any.whl (95 kB)\n",
      "\u001b[K     |████████████████████████████████| 95 kB 11.0 MB/s \n",
      "\u001b[?25hRequirement already satisfied: pytz in /shared-libs/python3.7/py/lib/python3.7/site-packages (from mlflow->pycaret==2.3.10) (2022.1)\n",
      "Collecting databricks-cli>=0.8.7\n",
      "  Downloading databricks-cli-0.16.6.tar.gz (62 kB)\n",
      "\u001b[K     |████████████████████████████████| 62 kB 1.7 MB/s \n",
      "\u001b[?25hRequirement already satisfied: protobuf>=3.7.0 in /shared-libs/python3.7/py/lib/python3.7/site-packages (from mlflow->pycaret==2.3.10) (3.19.4)\n",
      "Requirement already satisfied: sqlalchemy in /shared-libs/python3.7/py/lib/python3.7/site-packages (from mlflow->pycaret==2.3.10) (1.4.32)\n",
      "Collecting prometheus-flask-exporter\n",
      "  Downloading prometheus_flask_exporter-0.20.1-py3-none-any.whl (18 kB)\n",
      "Collecting querystring-parser\n",
      "  Downloading querystring_parser-1.2.4-py2.py3-none-any.whl (7.9 kB)\n",
      "Requirement already satisfied: tenacity>=6.2.0 in /shared-libs/python3.7/py/lib/python3.7/site-packages (from plotly>=4.4.1->pycaret==2.3.10) (8.0.1)\n",
      "Collecting numexpr\n",
      "  Downloading numexpr-2.8.1-cp37-cp37m-manylinux_2_17_x86_64.manylinux2014_x86_64.whl (379 kB)\n",
      "\u001b[K     |████████████████████████████████| 379 kB 84.7 MB/s \n",
      "\u001b[?25hRequirement already satisfied: jinja2 in /shared-libs/python3.7/py-core/lib/python3.7/site-packages (from pyLDAvis->pycaret==2.3.10) (3.0.3)\n",
      "Collecting sklearn\n",
      "  Downloading sklearn-0.0.tar.gz (1.1 kB)\n",
      "Collecting funcy\n",
      "  Downloading funcy-1.17-py2.py3-none-any.whl (33 kB)\n",
      "Requirement already satisfied: future in /shared-libs/python3.7/py/lib/python3.7/site-packages (from pyLDAvis->pycaret==2.3.10) (0.18.2)\n",
      "Requirement already satisfied: regex>=2021.8.3 in /shared-libs/python3.7/py/lib/python3.7/site-packages (from nltk->pycaret==2.3.10) (2022.3.15)\n",
      "Requirement already satisfied: pygments in /shared-libs/python3.7/py-core/lib/python3.7/site-packages (from IPython->pycaret==2.3.10) (2.11.2)\n",
      "Requirement already satisfied: backcall in /shared-libs/python3.7/py-core/lib/python3.7/site-packages (from IPython->pycaret==2.3.10) (0.2.0)\n",
      "Requirement already satisfied: pexpect>4.3; sys_platform != \"win32\" in /shared-libs/python3.7/py-core/lib/python3.7/site-packages (from IPython->pycaret==2.3.10) (4.8.0)\n",
      "Requirement already satisfied: matplotlib-inline in /shared-libs/python3.7/py-core/lib/python3.7/site-packages (from IPython->pycaret==2.3.10) (0.1.3)\n",
      "Requirement already satisfied: jedi>=0.16 in /shared-libs/python3.7/py-core/lib/python3.7/site-packages (from IPython->pycaret==2.3.10) (0.17.2)\n",
      "Requirement already satisfied: decorator in /shared-libs/python3.7/py-core/lib/python3.7/site-packages (from IPython->pycaret==2.3.10) (5.1.1)\n",
      "Requirement already satisfied: prompt-toolkit!=3.0.0,!=3.0.1,<3.1.0,>=2.0.0 in /shared-libs/python3.7/py-core/lib/python3.7/site-packages (from IPython->pycaret==2.3.10) (3.0.28)\n",
      "Requirement already satisfied: pickleshare in /shared-libs/python3.7/py-core/lib/python3.7/site-packages (from IPython->pycaret==2.3.10) (0.7.5)\n",
      "Collecting multimethod>=1.4\n",
      "  Downloading multimethod-1.8-py3-none-any.whl (9.8 kB)\n",
      "Collecting tangled-up-in-unicode==0.1.0\n",
      "  Downloading tangled_up_in_unicode-0.1.0-py3-none-any.whl (3.1 MB)\n",
      "\u001b[K     |████████████████████████████████| 3.1 MB 59.0 MB/s \n",
      "\u001b[?25hCollecting markupsafe~=2.0.1\n",
      "  Downloading MarkupSafe-2.0.1-cp37-cp37m-manylinux2010_x86_64.whl (31 kB)\n",
      "Collecting missingno>=0.4.2\n",
      "  Downloading missingno-0.5.1-py3-none-any.whl (8.7 kB)\n",
      "Collecting phik>=0.11.1\n",
      "  Downloading phik-0.12.2-cp37-cp37m-manylinux_2_17_x86_64.manylinux2014_x86_64.whl (690 kB)\n",
      "\u001b[K     |████████████████████████████████| 690 kB 91.7 MB/s \n",
      "\u001b[?25hCollecting visions[type_image_path]==0.7.4\n",
      "  Downloading visions-0.7.4-py3-none-any.whl (102 kB)\n",
      "\u001b[K     |████████████████████████████████| 102 kB 22.6 MB/s \n",
      "\u001b[?25hRequirement already satisfied: pydantic>=1.8.1 in /shared-libs/python3.7/py/lib/python3.7/site-packages (from pandas-profiling>=2.8.0->pycaret==2.3.10) (1.8.2)\n",
      "Collecting htmlmin>=0.1.12\n",
      "  Downloading htmlmin-0.1.12.tar.gz (19 kB)\n",
      "Requirement already satisfied: tornado>=4.2 in /shared-libs/python3.7/py-core/lib/python3.7/site-packages (from ipykernel>=4.5.1->ipywidgets->pycaret==2.3.10) (6.1)\n",
      "Requirement already satisfied: jupyter-client in /shared-libs/python3.7/py-core/lib/python3.7/site-packages (from ipykernel>=4.5.1->ipywidgets->pycaret==2.3.10) (6.1.12)\n",
      "Requirement already satisfied: jupyter-core in /shared-libs/python3.7/py-core/lib/python3.7/site-packages (from nbformat>=4.2.0->ipywidgets->pycaret==2.3.10) (4.7.1)\n",
      "Requirement already satisfied: jsonschema!=2.5.0,>=2.4 in /shared-libs/python3.7/py-core/lib/python3.7/site-packages (from nbformat>=4.2.0->ipywidgets->pycaret==2.3.10) (3.2.0)\n",
      "Requirement already satisfied: notebook>=4.4.1 in /shared-libs/python3.7/py-core/lib/python3.7/site-packages (from widgetsnbextension~=3.6.0->ipywidgets->pycaret==2.3.10) (6.3.0)\n",
      "Collecting patsy>=0.5.2\n",
      "  Downloading patsy-0.5.2-py2.py3-none-any.whl (233 kB)\n",
      "\u001b[K     |████████████████████████████████| 233 kB 70.5 MB/s \n",
      "\u001b[?25hRequirement already satisfied: certifi>=2017.4.17 in /shared-libs/python3.7/py/lib/python3.7/site-packages (from requests<3.0.0,>=2.13.0->spacy<2.4.0->pycaret==2.3.10) (2021.10.8)\n",
      "Requirement already satisfied: idna<4,>=2.5; python_version >= \"3\" in /shared-libs/python3.7/py-core/lib/python3.7/site-packages (from requests<3.0.0,>=2.13.0->spacy<2.4.0->pycaret==2.3.10) (3.3)\n",
      "Requirement already satisfied: charset-normalizer~=2.0.0; python_version >= \"3\" in /shared-libs/python3.7/py-core/lib/python3.7/site-packages (from requests<3.0.0,>=2.13.0->spacy<2.4.0->pycaret==2.3.10) (2.0.12)\n",
      "Requirement already satisfied: urllib3<1.27,>=1.21.1 in /shared-libs/python3.7/py/lib/python3.7/site-packages (from requests<3.0.0,>=2.13.0->spacy<2.4.0->pycaret==2.3.10) (1.26.9)\n",
      "Requirement already satisfied: typing-extensions; python_version < \"3.8\" in /shared-libs/python3.7/py-core/lib/python3.7/site-packages (from kiwisolver>=1.0.1->matplotlib->pycaret==2.3.10) (4.1.1)\n",
      "Requirement already satisfied: gitdb<5,>=4.0.1 in /root/venv/lib/python3.7/site-packages (from gitpython>=2.1.0->mlflow->pycaret==2.3.10) (4.0.9)\n",
      "Requirement already satisfied: zipp>=0.5 in /shared-libs/python3.7/py-core/lib/python3.7/site-packages (from importlib-metadata!=4.7.0,>=3.7.0->mlflow->pycaret==2.3.10) (3.7.0)\n",
      "Collecting websocket-client>=0.32.0\n",
      "  Downloading websocket_client-1.3.2-py3-none-any.whl (54 kB)\n",
      "\u001b[K     |████████████████████████████████| 54 kB 6.2 MB/s \n",
      "\u001b[?25hCollecting Mako\n",
      "  Downloading Mako-1.2.0-py3-none-any.whl (78 kB)\n",
      "\u001b[K     |████████████████████████████████| 78 kB 15.2 MB/s \n",
      "\u001b[?25hRequirement already satisfied: importlib-resources; python_version < \"3.9\" in /shared-libs/python3.7/py/lib/python3.7/site-packages (from alembic->mlflow->pycaret==2.3.10) (5.4.0)\n",
      "Collecting itsdangerous>=2.0\n",
      "  Downloading itsdangerous-2.1.2-py3-none-any.whl (15 kB)\n",
      "Requirement already satisfied: Werkzeug>=2.0 in /shared-libs/python3.7/py/lib/python3.7/site-packages (from Flask->mlflow->pycaret==2.3.10) (2.0.3)\n",
      "Requirement already satisfied: pyjwt>=1.7.0 in /shared-libs/python3.7/py/lib/python3.7/site-packages (from databricks-cli>=0.8.7->mlflow->pycaret==2.3.10) (2.3.0)\n",
      "Requirement already satisfied: oauthlib>=3.1.0 in /shared-libs/python3.7/py/lib/python3.7/site-packages (from databricks-cli>=0.8.7->mlflow->pycaret==2.3.10) (3.2.0)\n",
      "Requirement already satisfied: tabulate>=0.7.7 in /shared-libs/python3.7/py/lib/python3.7/site-packages (from databricks-cli>=0.8.7->mlflow->pycaret==2.3.10) (0.8.9)\n",
      "Requirement already satisfied: greenlet!=0.4.17; python_version >= \"3\" and (platform_machine == \"aarch64\" or (platform_machine == \"ppc64le\" or (platform_machine == \"x86_64\" or (platform_machine == \"amd64\" or (platform_machine == \"AMD64\" or (platform_machine == \"win32\" or platform_machine == \"WIN32\")))))) in /shared-libs/python3.7/py/lib/python3.7/site-packages (from sqlalchemy->mlflow->pycaret==2.3.10) (1.1.2)\n",
      "Requirement already satisfied: prometheus-client in /shared-libs/python3.7/py-core/lib/python3.7/site-packages (from prometheus-flask-exporter->mlflow->pycaret==2.3.10) (0.13.1)\n",
      "Requirement already satisfied: ptyprocess>=0.5 in /shared-libs/python3.7/py-core/lib/python3.7/site-packages (from pexpect>4.3; sys_platform != \"win32\"->IPython->pycaret==2.3.10) (0.7.0)\n",
      "Requirement already satisfied: parso<0.8.0,>=0.7.0 in /shared-libs/python3.7/py-core/lib/python3.7/site-packages (from jedi>=0.16->IPython->pycaret==2.3.10) (0.7.1)\n",
      "Requirement already satisfied: wcwidth in /shared-libs/python3.7/py-core/lib/python3.7/site-packages (from prompt-toolkit!=3.0.0,!=3.0.1,<3.1.0,>=2.0.0->IPython->pycaret==2.3.10) (0.2.5)\n",
      "Collecting networkx>=2.4\n",
      "  Downloading networkx-2.6.3-py3-none-any.whl (1.9 MB)\n",
      "\u001b[K     |████████████████████████████████| 1.9 MB 36.5 MB/s \n",
      "\u001b[?25hRequirement already satisfied: attrs>=19.3.0 in /shared-libs/python3.7/py-core/lib/python3.7/site-packages (from visions[type_image_path]==0.7.4->pandas-profiling>=2.8.0->pycaret==2.3.10) (21.4.0)\n",
      "Collecting imagehash; extra == \"type_image_path\"\n",
      "  Downloading ImageHash-4.2.1.tar.gz (812 kB)\n",
      "\u001b[K     |████████████████████████████████| 812 kB 69.6 MB/s \n",
      "\u001b[?25hRequirement already satisfied: pyzmq>=13 in /shared-libs/python3.7/py-core/lib/python3.7/site-packages (from jupyter-client->ipykernel>=4.5.1->ipywidgets->pycaret==2.3.10) (22.3.0)\n",
      "Requirement already satisfied: pyrsistent>=0.14.0 in /shared-libs/python3.7/py-core/lib/python3.7/site-packages (from jsonschema!=2.5.0,>=2.4->nbformat>=4.2.0->ipywidgets->pycaret==2.3.10) (0.18.1)\n",
      "Requirement already satisfied: nbconvert==6.0.7 in /shared-libs/python3.7/py-core/lib/python3.7/site-packages (from notebook>=4.4.1->widgetsnbextension~=3.6.0->ipywidgets->pycaret==2.3.10) (6.0.7)\n",
      "Requirement already satisfied: Send2Trash>=1.5.0 in /shared-libs/python3.7/py-core/lib/python3.7/site-packages (from notebook>=4.4.1->widgetsnbextension~=3.6.0->ipywidgets->pycaret==2.3.10) (1.8.0)\n",
      "Requirement already satisfied: argon2-cffi in /shared-libs/python3.7/py-core/lib/python3.7/site-packages (from notebook>=4.4.1->widgetsnbextension~=3.6.0->ipywidgets->pycaret==2.3.10) (21.3.0)\n",
      "Requirement already satisfied: terminado>=0.8.3 in /shared-libs/python3.7/py-core/lib/python3.7/site-packages (from notebook>=4.4.1->widgetsnbextension~=3.6.0->ipywidgets->pycaret==2.3.10) (0.13.3)\n",
      "Requirement already satisfied: smmap<6,>=3.0.1 in /root/venv/lib/python3.7/site-packages (from gitdb<5,>=4.0.1->gitpython>=2.1.0->mlflow->pycaret==2.3.10) (5.0.0)\n",
      "Collecting PyWavelets\n",
      "  Downloading PyWavelets-1.3.0-cp37-cp37m-manylinux_2_5_x86_64.manylinux1_x86_64.manylinux_2_12_x86_64.manylinux2010_x86_64.whl (6.4 MB)\n",
      "\u001b[K     |████████████████████████████████| 6.4 MB 65.5 MB/s \n",
      "\u001b[?25hRequirement already satisfied: jupyterlab-pygments in /shared-libs/python3.7/py-core/lib/python3.7/site-packages (from nbconvert==6.0.7->notebook>=4.4.1->widgetsnbextension~=3.6.0->ipywidgets->pycaret==2.3.10) (0.1.2)\n",
      "Requirement already satisfied: bleach in /shared-libs/python3.7/py-core/lib/python3.7/site-packages (from nbconvert==6.0.7->notebook>=4.4.1->widgetsnbextension~=3.6.0->ipywidgets->pycaret==2.3.10) (4.1.0)\n",
      "Requirement already satisfied: nbclient<0.6.0,>=0.5.0 in /shared-libs/python3.7/py-core/lib/python3.7/site-packages (from nbconvert==6.0.7->notebook>=4.4.1->widgetsnbextension~=3.6.0->ipywidgets->pycaret==2.3.10) (0.5.9)\n",
      "Requirement already satisfied: testpath in /shared-libs/python3.7/py-core/lib/python3.7/site-packages (from nbconvert==6.0.7->notebook>=4.4.1->widgetsnbextension~=3.6.0->ipywidgets->pycaret==2.3.10) (0.6.0)\n",
      "Requirement already satisfied: mistune<2,>=0.8.1 in /shared-libs/python3.7/py-core/lib/python3.7/site-packages (from nbconvert==6.0.7->notebook>=4.4.1->widgetsnbextension~=3.6.0->ipywidgets->pycaret==2.3.10) (0.8.4)\n",
      "Requirement already satisfied: defusedxml in /shared-libs/python3.7/py-core/lib/python3.7/site-packages (from nbconvert==6.0.7->notebook>=4.4.1->widgetsnbextension~=3.6.0->ipywidgets->pycaret==2.3.10) (0.7.1)\n",
      "Requirement already satisfied: pandocfilters>=1.4.1 in /shared-libs/python3.7/py-core/lib/python3.7/site-packages (from nbconvert==6.0.7->notebook>=4.4.1->widgetsnbextension~=3.6.0->ipywidgets->pycaret==2.3.10) (1.5.0)\n",
      "Requirement already satisfied: argon2-cffi-bindings in /shared-libs/python3.7/py-core/lib/python3.7/site-packages (from argon2-cffi->notebook>=4.4.1->widgetsnbextension~=3.6.0->ipywidgets->pycaret==2.3.10) (21.2.0)\n",
      "Requirement already satisfied: webencodings in /shared-libs/python3.7/py-core/lib/python3.7/site-packages (from bleach->nbconvert==6.0.7->notebook>=4.4.1->widgetsnbextension~=3.6.0->ipywidgets->pycaret==2.3.10) (0.5.1)\n",
      "Requirement already satisfied: nest-asyncio in /shared-libs/python3.7/py-core/lib/python3.7/site-packages (from nbclient<0.6.0,>=0.5.0->nbconvert==6.0.7->notebook>=4.4.1->widgetsnbextension~=3.6.0->ipywidgets->pycaret==2.3.10) (1.5.4)\n",
      "Requirement already satisfied: cffi>=1.0.1 in /shared-libs/python3.7/py-core/lib/python3.7/site-packages (from argon2-cffi-bindings->argon2-cffi->notebook>=4.4.1->widgetsnbextension~=3.6.0->ipywidgets->pycaret==2.3.10) (1.15.0)\n",
      "Requirement already satisfied: pycparser in /shared-libs/python3.7/py-core/lib/python3.7/site-packages (from cffi>=1.0.1->argon2-cffi-bindings->argon2-cffi->notebook>=4.4.1->widgetsnbextension~=3.6.0->ipywidgets->pycaret==2.3.10) (2.21)\n",
      "Building wheels for collected packages: umap-learn, pyod, cufflinks, pyLDAvis, pynndescent, databricks-cli, sklearn, htmlmin, imagehash\n",
      "  Building wheel for umap-learn (setup.py) ... \u001b[?25ldone\n",
      "\u001b[?25h  Created wheel for umap-learn: filename=umap_learn-0.5.3-py3-none-any.whl size=82819 sha256=52d7917d297a38b220dbd2645618abbc3b9275a052fc73b9dac839f468f4a39f\n",
      "  Stored in directory: /root/.cache/pip/wheels/b3/52/a5/1fd9e3e76a7ab34f134c07469cd6f16e27ef3a37aeff1fe821\n",
      "  Building wheel for pyod (setup.py) ... \u001b[?25ldone\n",
      "\u001b[?25h  Created wheel for pyod: filename=pyod-0.9.9-py3-none-any.whl size=139313 sha256=3287edfb73ac9c547f36be33129853a385e6f40830237e59b854f5c040f21acd\n",
      "  Stored in directory: /root/.cache/pip/wheels/68/32/f0/0dc3050775e77b6661a116b70817b02b4305fa253269d6d998\n",
      "  Building wheel for cufflinks (setup.py) ... \u001b[?25ldone\n",
      "\u001b[?25h  Created wheel for cufflinks: filename=cufflinks-0.17.3-py3-none-any.whl size=67920 sha256=c6f827010dfcb10b465575a3f6a3af14c9b1ab82cbb244f3ac471b4283f180df\n",
      "  Stored in directory: /root/.cache/pip/wheels/e1/27/13/3fe67fa7ea7be444b831d117220b3b586b872c9acd4df480d0\n",
      "  Building wheel for pyLDAvis (PEP 517) ... \u001b[?25ldone\n",
      "\u001b[?25h  Created wheel for pyLDAvis: filename=pyLDAvis-3.3.1-py2.py3-none-any.whl size=136897 sha256=51931b1a3d3863f98e46c28e7e172f05ceade22cb612f4927d55f6f411be4efe\n",
      "  Stored in directory: /root/.cache/pip/wheels/c9/21/f6/17bcf2667e8a68532ba2fbf6d5c72fdf4c7f7d9abfa4852d2f\n",
      "  Building wheel for pynndescent (setup.py) ... \u001b[?25ldone\n",
      "\u001b[?25h  Created wheel for pynndescent: filename=pynndescent-0.5.6-py3-none-any.whl size=53930 sha256=7af58b44b94f3e5f75562ad6e1fc3c1134e713ef9bd7a82db25d80b17ed4dc5d\n",
      "  Stored in directory: /root/.cache/pip/wheels/03/f1/56/f80d72741e400345b5a5b50ec3d929aca581bf45e0225d5c50\n",
      "  Building wheel for databricks-cli (setup.py) ... \u001b[?25ldone\n",
      "\u001b[?25h  Created wheel for databricks-cli: filename=databricks_cli-0.16.6-py3-none-any.whl size=112628 sha256=367444221309bd21d08b013d6619213329113b8ef3ee08219b7ae626f65a3ebf\n",
      "  Stored in directory: /root/.cache/pip/wheels/96/c1/f8/d75a22e789ab6a4dff11f18338c3af4360189aa371295cc934\n",
      "  Building wheel for sklearn (setup.py) ... \u001b[?25ldone\n",
      "\u001b[?25h  Created wheel for sklearn: filename=sklearn-0.0-py2.py3-none-any.whl size=1317 sha256=6ae4416c832826d39e3f99f896e100f8404312f359db49cddb1b575ec68d47fa\n",
      "  Stored in directory: /root/.cache/pip/wheels/46/ef/c3/157e41f5ee1372d1be90b09f74f82b10e391eaacca8f22d33e\n",
      "  Building wheel for htmlmin (setup.py) ... \u001b[?25ldone\n",
      "\u001b[?25h  Created wheel for htmlmin: filename=htmlmin-0.1.12-py3-none-any.whl size=27085 sha256=3bfc84bf477724407bc9e6b3aac2c9b71177cd2234e12b4be79f4a60e980f810\n",
      "  Stored in directory: /root/.cache/pip/wheels/70/e1/52/5b14d250ba868768823940c3229e9950d201a26d0bd3ee8655\n",
      "  Building wheel for imagehash (setup.py) ... \u001b[?25ldone\n",
      "\u001b[?25h  Created wheel for imagehash: filename=ImageHash-4.2.1-py2.py3-none-any.whl size=295197 sha256=1e6f0c06b68cf03b2a477de1441e898ac398fe4382ac57d933f8e9581bfb3b98\n",
      "  Stored in directory: /root/.cache/pip/wheels/4c/d5/59/5e3e297533ddb09407769762985d134135064c6831e29a914e\n",
      "Successfully built umap-learn pyod cufflinks pyLDAvis pynndescent databricks-cli sklearn htmlmin imagehash\n",
      "\u001b[31mERROR: numba 0.54.1 has requirement numpy<1.21,>=1.17, but you'll have numpy 1.21.5 which is incompatible.\u001b[0m\n",
      "\u001b[31mERROR: yellowbrick 1.4 has requirement scikit-learn>=1.0.0, but you'll have scikit-learn 0.23.2 which is incompatible.\u001b[0m\n",
      "\u001b[31mERROR: pandas-profiling 3.1.0 has requirement joblib~=1.0.1, but you'll have joblib 1.1.0 which is incompatible.\u001b[0m\n",
      "Installing collected packages: scipy, scikit-learn, mlxtend, llvmlite, numba, pynndescent, umap-learn, scikit-plot, patsy, statsmodels, pyod, plac, srsly, catalogue, thinc, spacy, gensim, colorlover, cufflinks, lightgbm, cloudpickle, gunicorn, websocket-client, docker, markupsafe, Mako, alembic, itsdangerous, Flask, databricks-cli, pyyaml, prometheus-flask-exporter, querystring-parser, mlflow, kmodes, numexpr, sklearn, funcy, pyLDAvis, Boruta, yellowbrick, imbalanced-learn, wordcloud, multimethod, tangled-up-in-unicode, missingno, phik, networkx, PyWavelets, imagehash, visions, htmlmin, pandas-profiling, pycaret\n",
      "  Attempting uninstall: scipy\n",
      "    Found existing installation: scipy 1.7.3\n",
      "    Not uninstalling scipy at /shared-libs/python3.7/py/lib/python3.7/site-packages, outside environment /root/venv\n",
      "    Can't uninstall 'scipy'. No files were found to uninstall.\n",
      "  Attempting uninstall: scikit-learn\n",
      "    Found existing installation: scikit-learn 1.0.2\n",
      "    Not uninstalling scikit-learn at /shared-libs/python3.7/py/lib/python3.7/site-packages, outside environment /root/venv\n",
      "    Can't uninstall 'scikit-learn'. No files were found to uninstall.\n",
      "  Attempting uninstall: srsly\n",
      "    Found existing installation: srsly 2.4.2\n",
      "    Not uninstalling srsly at /shared-libs/python3.7/py/lib/python3.7/site-packages, outside environment /root/venv\n",
      "    Can't uninstall 'srsly'. No files were found to uninstall.\n",
      "  Attempting uninstall: catalogue\n",
      "    Found existing installation: catalogue 2.0.7\n",
      "    Not uninstalling catalogue at /shared-libs/python3.7/py/lib/python3.7/site-packages, outside environment /root/venv\n",
      "    Can't uninstall 'catalogue'. No files were found to uninstall.\n",
      "  Attempting uninstall: thinc\n",
      "    Found existing installation: thinc 8.0.15\n",
      "    Not uninstalling thinc at /shared-libs/python3.7/py/lib/python3.7/site-packages, outside environment /root/venv\n",
      "    Can't uninstall 'thinc'. No files were found to uninstall.\n",
      "  Attempting uninstall: spacy\n",
      "    Found existing installation: spacy 3.2.3\n",
      "    Not uninstalling spacy at /shared-libs/python3.7/py/lib/python3.7/site-packages, outside environment /root/venv\n",
      "    Can't uninstall 'spacy'. No files were found to uninstall.\n",
      "  Attempting uninstall: markupsafe\n",
      "    Found existing installation: MarkupSafe 2.1.1\n",
      "    Not uninstalling markupsafe at /shared-libs/python3.7/py-core/lib/python3.7/site-packages, outside environment /root/venv\n",
      "    Can't uninstall 'MarkupSafe'. No files were found to uninstall.\n",
      "  Attempting uninstall: pyyaml\n",
      "    Found existing installation: PyYAML 6.0\n",
      "    Not uninstalling pyyaml at /shared-libs/python3.7/py/lib/python3.7/site-packages, outside environment /root/venv\n",
      "    Can't uninstall 'PyYAML'. No files were found to uninstall.\n",
      "Successfully installed Boruta-0.3 Flask-2.1.1 Mako-1.2.0 PyWavelets-1.3.0 alembic-1.7.7 catalogue-1.0.0 cloudpickle-2.0.0 colorlover-0.3.0 cufflinks-0.17.3 databricks-cli-0.16.6 docker-5.0.3 funcy-1.17 gensim-3.8.3 gunicorn-20.1.0 htmlmin-0.1.12 imagehash-4.2.1 imbalanced-learn-0.7.0 itsdangerous-2.1.2 kmodes-0.12.1 lightgbm-3.3.2 llvmlite-0.37.0 markupsafe-2.0.1 missingno-0.5.1 mlflow-1.25.1 mlxtend-0.19.0 multimethod-1.8 networkx-2.6.3 numba-0.54.1 numexpr-2.8.1 pandas-profiling-3.1.0 patsy-0.5.2 phik-0.12.2 plac-1.1.3 prometheus-flask-exporter-0.20.1 pyLDAvis-3.3.1 pycaret-2.3.10 pynndescent-0.5.6 pyod-0.9.9 pyyaml-5.4.1 querystring-parser-1.2.4 scikit-learn-0.23.2 scikit-plot-0.3.7 scipy-1.5.4 sklearn-0.0 spacy-2.3.7 srsly-1.0.5 statsmodels-0.13.2 tangled-up-in-unicode-0.1.0 thinc-7.4.5 umap-learn-0.5.3 visions-0.7.4 websocket-client-1.3.2 wordcloud-1.8.1 yellowbrick-1.4\n",
      "\u001b[33mWARNING: You are using pip version 20.1.1; however, version 22.0.4 is available.\n",
      "You should consider upgrading via the '/root/venv/bin/python -m pip install --upgrade pip' command.\u001b[0m\n"
     ]
    }
   ],
   "source": [
    "!pip install pycaret==2.3.10"
   ]
  },
  {
   "cell_type": "code",
   "execution_count": null,
   "metadata": {
    "cell_id": "00003-462db7b6-91ca-4b71-b72a-caf339a526a0",
    "deepnote_cell_height": 419,
    "deepnote_cell_type": "code",
    "deepnote_to_be_reexecuted": false,
    "execution_millis": 7198,
    "execution_start": 1650286458255,
    "source_hash": "c925a285",
    "tags": []
   },
   "outputs": [
    {
     "name": "stdout",
     "output_type": "stream",
     "text": [
      "Collecting numpy==1.18.5\n",
      "  Downloading numpy-1.18.5-cp37-cp37m-manylinux1_x86_64.whl (20.1 MB)\n",
      "\u001b[K     |████████████████████████████████| 20.1 MB 20.8 MB/s \n",
      "\u001b[31mERROR: yellowbrick 1.4 has requirement scikit-learn>=1.0.0, but you'll have scikit-learn 0.23.2 which is incompatible.\u001b[0m\n",
      "\u001b[31mERROR: pyldavis 3.3.1 has requirement numpy>=1.20.0, but you'll have numpy 1.18.5 which is incompatible.\u001b[0m\n",
      "\u001b[31mERROR: pandas-profiling 3.1.0 has requirement joblib~=1.0.1, but you'll have joblib 1.1.0 which is incompatible.\u001b[0m\n",
      "\u001b[31mERROR: pandas-profiling 3.1.0 has requirement markupsafe~=2.0.1, but you'll have markupsafe 2.1.1 which is incompatible.\u001b[0m\n",
      "\u001b[31mERROR: tensorflow 2.8.0 has requirement numpy>=1.20, but you'll have numpy 1.18.5 which is incompatible.\u001b[0m\n",
      "\u001b[?25hInstalling collected packages: numpy\n",
      "  Attempting uninstall: numpy\n",
      "    Found existing installation: numpy 1.21.5\n",
      "    Not uninstalling numpy at /shared-libs/python3.7/py/lib/python3.7/site-packages, outside environment /root/venv\n",
      "    Can't uninstall 'numpy'. No files were found to uninstall.\n",
      "Successfully installed numpy-1.18.5\n",
      "\u001b[33mWARNING: You are using pip version 20.1.1; however, version 22.0.4 is available.\n",
      "You should consider upgrading via the '/root/venv/bin/python -m pip install --upgrade pip' command.\u001b[0m\n"
     ]
    }
   ],
   "source": [
    "!pip install numpy==1.18.5"
   ]
  },
  {
   "cell_type": "code",
   "execution_count": null,
   "metadata": {
    "cell_id": "00005-00165fdf-1ac1-4dbf-bad8-cf215a678621",
    "deepnote_cell_height": 225,
    "deepnote_cell_type": "code",
    "deepnote_to_be_reexecuted": false,
    "execution_millis": 637,
    "execution_start": 1650341463047,
    "source_hash": "f83b2195",
    "tags": []
   },
   "outputs": [],
   "source": [
    "import streamlit as st\n",
    "import pandas as pd\n",
    "import datetime\n",
    "import numpy as np\n",
    "from datetime import timedelta\n",
    "from datetime import datetime\n",
    "import yfinance as yf\n",
    "import plotly.graph_objects as go\n",
    "from pycaret.regression import *"
   ]
  },
  {
   "cell_type": "code",
   "execution_count": null,
   "metadata": {
    "cell_id": "00006-00102f6c-58d4-4bd3-93ce-34de6db787d3",
    "deepnote_cell_height": 297,
    "deepnote_cell_type": "code",
    "deepnote_to_be_reexecuted": false,
    "execution_millis": 2,
    "execution_start": 1650341467419,
    "source_hash": "4fca89d3",
    "tags": []
   },
   "outputs": [],
   "source": [
    "stock_list = [\n",
    "    'ONGC.NS', 'UPL.NS', 'ITC.NS', 'SUNPHARMA.NS', 'IOC.NS', 'JSWSTEEL.NS',\n",
    "    'SBIN.NS', 'SHREECEM.NS', 'HINDUNILVR.NS', 'NTPC.NS', 'HINDALCO.NS',\n",
    "    'LT.NS', 'BAJFINANCE.NS', 'DIVISLAB.NS', 'TATACONSUM.NS', 'HDFCLIFE.NS',\n",
    "    'M&M.NS', 'INFY.NS', 'GRASIM.NS', 'WIPRO.NS', 'COALINDIA.NS',\n",
    "    'BRITANNIA.NS', 'INDUSINDBK.NS', 'BHARTIARTL.NS', 'SBILIFE.NS',\n",
    "    'ICICIBANK.NS', 'TATASTEEL.NS', 'RELIANCE.NS', 'HCLTECH.NS',\n",
    "    'BAJAJ-AUTO.NS', 'BPCL.NS', 'TCS.NS', 'NESTLEIND.NS', 'ADANIPORTS.NS',\n",
    "    'AXISBANK.NS', 'ULTRACEMCO.NS', 'CIPLA.NS', 'TITAN.NS', 'HEROMOTOCO.NS',\n",
    "    'KOTAKBANK.NS', 'BAJAJFINSV.NS', 'POWERGRID.NS', 'ASIANPAINT.NS',\n",
    "    'EICHERMOT.NS', 'TATAMOTORS.NS', 'DRREDDY.NS', 'HDFCBANK.NS', 'HDFC.NS',\n",
    "    'MARUTI.NS'\n",
    "]"
   ]
  },
  {
   "cell_type": "code",
   "execution_count": null,
   "metadata": {
    "cell_id": "00007-8c589951-f33d-444d-bff5-f7998b12d18c",
    "deepnote_cell_height": 280,
    "deepnote_cell_type": "code",
    "deepnote_to_be_reexecuted": false,
    "execution_millis": 18,
    "execution_start": 1650341471887,
    "source_hash": "d3dbce44",
    "tags": []
   },
   "outputs": [
    {
     "data": {
      "application/vnd.deepnote.dataframe.v3+json": {
       "column_count": 3,
       "columns": [
        {
         "dtype": "datetime64[ns]",
         "name": "Date",
         "stats": {
          "histogram": [
           {
            "bin_end": 0.1,
            "bin_start": 0,
            "count": 0
           },
           {
            "bin_end": 0.2,
            "bin_start": 0.1,
            "count": 0
           },
           {
            "bin_end": 0.30000000000000004,
            "bin_start": 0.2,
            "count": 0
           },
           {
            "bin_end": 0.4,
            "bin_start": 0.30000000000000004,
            "count": 0
           },
           {
            "bin_end": 0.5,
            "bin_start": 0.4,
            "count": 0
           },
           {
            "bin_end": 0.6000000000000001,
            "bin_start": 0.5,
            "count": 0
           },
           {
            "bin_end": 0.7000000000000001,
            "bin_start": 0.6000000000000001,
            "count": 0
           },
           {
            "bin_end": 0.8,
            "bin_start": 0.7000000000000001,
            "count": 0
           },
           {
            "bin_end": 0.9,
            "bin_start": 0.8,
            "count": 0
           },
           {
            "bin_end": 1,
            "bin_start": 0.9,
            "count": 0
           }
          ],
          "max": null,
          "min": null,
          "nan_count": 0,
          "unique_count": 0
         }
        },
        {
         "dtype": "object",
         "name": "Close",
         "stats": {
          "categories": [],
          "nan_count": 0,
          "unique_count": 0
         }
        },
        {
         "dtype": "object",
         "name": "stock_name",
         "stats": {
          "categories": [],
          "nan_count": 0,
          "unique_count": 0
         }
        },
        {
         "dtype": "object",
         "name": "_deepnote_index_column"
        }
       ],
       "row_count": 0,
       "rows": []
      },
      "text/html": [
       "<div>\n",
       "<style scoped>\n",
       "    .dataframe tbody tr th:only-of-type {\n",
       "        vertical-align: middle;\n",
       "    }\n",
       "\n",
       "    .dataframe tbody tr th {\n",
       "        vertical-align: top;\n",
       "    }\n",
       "\n",
       "    .dataframe thead th {\n",
       "        text-align: right;\n",
       "    }\n",
       "</style>\n",
       "<table border=\"1\" class=\"dataframe\">\n",
       "  <thead>\n",
       "    <tr style=\"text-align: right;\">\n",
       "      <th></th>\n",
       "      <th>Date</th>\n",
       "      <th>Close</th>\n",
       "      <th>stock_name</th>\n",
       "    </tr>\n",
       "  </thead>\n",
       "  <tbody>\n",
       "  </tbody>\n",
       "</table>\n",
       "</div>"
      ],
      "text/plain": [
       "Empty DataFrame\n",
       "Columns: [Date, Close, stock_name]\n",
       "Index: []"
      ]
     },
     "execution_count": 9,
     "metadata": {},
     "output_type": "execute_result"
    }
   ],
   "source": [
    "column_names = [\"Date\", \"Close\", \"stock_name\"]\n",
    "\n",
    "df = pd.DataFrame(columns = column_names)\n",
    "df['Date'] = pd.to_datetime(df['Date'])\n",
    "df[\"Close\"] = df[\"Close\"]\n",
    "df.head()"
   ]
  },
  {
   "cell_type": "code",
   "execution_count": null,
   "metadata": {
    "cell_id": "00008-553628f6-2893-43a3-a0a4-871dfa3b8b9b",
    "deepnote_cell_height": 863,
    "deepnote_cell_type": "code",
    "deepnote_to_be_reexecuted": false,
    "execution_millis": 6535,
    "execution_start": 1650341477419,
    "owner_user_id": "4ca61b2b-9db5-4369-a218-1a37c90f7122",
    "source_hash": "45e15c29",
    "tags": []
   },
   "outputs": [
    {
     "name": "stderr",
     "output_type": "stream",
     "text": [
      "2022-04-19 04:11:17.534 INFO    numexpr.utils: NumExpr defaulting to 4 threads.\n",
      "[*********************100%***********************]  1 of 1 completed\n",
      "[*********************100%***********************]  1 of 1 completed\n",
      "[*********************100%***********************]  1 of 1 completed\n",
      "[*********************100%***********************]  1 of 1 completed\n",
      "[*********************100%***********************]  1 of 1 completed\n",
      "[*********************100%***********************]  1 of 1 completed\n",
      "[*********************100%***********************]  1 of 1 completed\n",
      "[*********************100%***********************]  1 of 1 completed\n",
      "[*********************100%***********************]  1 of 1 completed\n",
      "[*********************100%***********************]  1 of 1 completed\n",
      "[*********************100%***********************]  1 of 1 completed\n",
      "[*********************100%***********************]  1 of 1 completed\n",
      "[*********************100%***********************]  1 of 1 completed\n",
      "[*********************100%***********************]  1 of 1 completed\n",
      "[*********************100%***********************]  1 of 1 completed\n",
      "[*********************100%***********************]  1 of 1 completed\n",
      "[*********************100%***********************]  1 of 1 completed\n",
      "[*********************100%***********************]  1 of 1 completed\n",
      "[*********************100%***********************]  1 of 1 completed\n",
      "[*********************100%***********************]  1 of 1 completed\n",
      "[*********************100%***********************]  1 of 1 completed\n",
      "[*********************100%***********************]  1 of 1 completed\n",
      "[*********************100%***********************]  1 of 1 completed\n",
      "[*********************100%***********************]  1 of 1 completed\n",
      "[*********************100%***********************]  1 of 1 completed\n",
      "[*********************100%***********************]  1 of 1 completed\n",
      "[*********************100%***********************]  1 of 1 completed\n",
      "[*********************100%***********************]  1 of 1 completed\n",
      "[*********************100%***********************]  1 of 1 completed\n",
      "[*********************100%***********************]  1 of 1 completed\n",
      "[*********************100%***********************]  1 of 1 completed\n",
      "[*********************100%***********************]  1 of 1 completed\n",
      "[*********************100%***********************]  1 of 1 completed\n",
      "[*********************100%***********************]  1 of 1 completed\n",
      "[*********************100%***********************]  1 of 1 completed\n",
      "[*********************100%***********************]  1 of 1 completed\n",
      "[*********************100%***********************]  1 of 1 completed\n",
      "[*********************100%***********************]  1 of 1 completed\n",
      "[*********************100%***********************]  1 of 1 completed\n",
      "[*********************100%***********************]  1 of 1 completed\n",
      "[*********************100%***********************]  1 of 1 completed\n",
      "[*********************100%***********************]  1 of 1 completed\n",
      "[*********************100%***********************]  1 of 1 completed\n",
      "[*********************100%***********************]  1 of 1 completed\n",
      "[*********************100%***********************]  1 of 1 completed\n",
      "[*********************100%***********************]  1 of 1 completed\n",
      "[*********************100%***********************]  1 of 1 completed\n",
      "[*********************100%***********************]  1 of 1 completed\n",
      "[*********************100%***********************]  1 of 1 completed\n"
     ]
    }
   ],
   "source": [
    "end = datetime.today().date()\n",
    "start = end - timedelta(days=1456)\n",
    "\n",
    "for i in stock_list:\n",
    "    stock = yf.download(i,start= start, end=end)\n",
    "    stock = stock.round({'Close': 3})\n",
    "    stock = stock.reset_index()[[\"Date\",\"Close\"]]\n",
    "    stock['stock_name'] = i\n",
    "    df = df.append(stock)\n"
   ]
  },
  {
   "cell_type": "code",
   "execution_count": null,
   "metadata": {
    "cell_id": "00009-17868d13-c696-42af-8f5f-9d12d80d99db",
    "deepnote_cell_height": 81,
    "deepnote_cell_type": "code",
    "deepnote_to_be_reexecuted": false,
    "execution_millis": 1,
    "execution_start": 1650341483942,
    "source_hash": "c7a6420e",
    "tags": []
   },
   "outputs": [],
   "source": [
    "df['Close'] = df['Close'].ffill()"
   ]
  },
  {
   "cell_type": "code",
   "execution_count": null,
   "metadata": {
    "cell_id": "00010-a81e1b96-1ed0-4bcf-99d4-ab0f6fe171b9",
    "deepnote_cell_height": 207,
    "deepnote_cell_type": "code",
    "deepnote_to_be_reexecuted": false,
    "execution_millis": 547,
    "execution_start": 1650341487084,
    "source_hash": "8bf15dc1",
    "tags": []
   },
   "outputs": [],
   "source": [
    "\n",
    "data = df.copy()\n",
    "data['month'] = [i.month for i in data['Date']]\n",
    "data['year'] = [i.year for i in data['Date']]\n",
    "data['day_of_week'] = [i.dayofweek for i in data['Date']]\n",
    "data['day_of_year'] = [i.dayofyear for i in data['Date']]\n",
    "\n",
    "data.set_index('Date', inplace=True)"
   ]
  },
  {
   "cell_type": "code",
   "execution_count": null,
   "metadata": {
    "cell_id": "00011-b8a100de-bc38-449a-ab6f-ab85f64e5b21",
    "deepnote_cell_height": 410,
    "deepnote_cell_type": "code",
    "deepnote_to_be_reexecuted": false,
    "execution_millis": 2,
    "execution_start": 1650341491045,
    "source_hash": "41313cfa",
    "tags": []
   },
   "outputs": [
    {
     "data": {
      "application/vnd.deepnote.dataframe.v3+json": {
       "column_count": 6,
       "columns": [
        {
         "dtype": "float64",
         "name": "Close",
         "stats": {
          "histogram": [
           {
            "bin_end": 179.76999999999998,
            "bin_start": 179.45,
            "count": 1
           },
           {
            "bin_end": 180.09,
            "bin_start": 179.76999999999998,
            "count": 0
           },
           {
            "bin_end": 180.41,
            "bin_start": 180.09,
            "count": 0
           },
           {
            "bin_end": 180.73,
            "bin_start": 180.41,
            "count": 2
           },
           {
            "bin_end": 181.05,
            "bin_start": 180.73,
            "count": 1
           },
           {
            "bin_end": 181.37,
            "bin_start": 181.05,
            "count": 0
           },
           {
            "bin_end": 181.69,
            "bin_start": 181.37,
            "count": 0
           },
           {
            "bin_end": 182.01,
            "bin_start": 181.69,
            "count": 0
           },
           {
            "bin_end": 182.33,
            "bin_start": 182.01,
            "count": 0
           },
           {
            "bin_end": 182.65,
            "bin_start": 182.33,
            "count": 1
           }
          ],
          "max": "182.65",
          "min": "179.45",
          "nan_count": 0,
          "unique_count": 5
         }
        },
        {
         "dtype": "object",
         "name": "stock_name",
         "stats": {
          "categories": [
           {
            "count": 5,
            "name": "ONGC.NS"
           }
          ],
          "nan_count": 0,
          "unique_count": 1
         }
        },
        {
         "dtype": "int64",
         "name": "month",
         "stats": {
          "histogram": [
           {
            "bin_end": 3.6,
            "bin_start": 3.5,
            "count": 0
           },
           {
            "bin_end": 3.7,
            "bin_start": 3.6,
            "count": 0
           },
           {
            "bin_end": 3.8,
            "bin_start": 3.7,
            "count": 0
           },
           {
            "bin_end": 3.9,
            "bin_start": 3.8,
            "count": 0
           },
           {
            "bin_end": 4,
            "bin_start": 3.9,
            "count": 0
           },
           {
            "bin_end": 4.1,
            "bin_start": 4,
            "count": 5
           },
           {
            "bin_end": 4.2,
            "bin_start": 4.1,
            "count": 0
           },
           {
            "bin_end": 4.3,
            "bin_start": 4.2,
            "count": 0
           },
           {
            "bin_end": 4.4,
            "bin_start": 4.3,
            "count": 0
           },
           {
            "bin_end": 4.5,
            "bin_start": 4.4,
            "count": 0
           }
          ],
          "max": "4",
          "min": "4",
          "nan_count": 0,
          "unique_count": 1
         }
        },
        {
         "dtype": "int64",
         "name": "year",
         "stats": {
          "histogram": [
           {
            "bin_end": 2017.6,
            "bin_start": 2017.5,
            "count": 0
           },
           {
            "bin_end": 2017.7,
            "bin_start": 2017.6,
            "count": 0
           },
           {
            "bin_end": 2017.8,
            "bin_start": 2017.7,
            "count": 0
           },
           {
            "bin_end": 2017.9,
            "bin_start": 2017.8,
            "count": 0
           },
           {
            "bin_end": 2018,
            "bin_start": 2017.9,
            "count": 0
           },
           {
            "bin_end": 2018.1,
            "bin_start": 2018,
            "count": 5
           },
           {
            "bin_end": 2018.2,
            "bin_start": 2018.1,
            "count": 0
           },
           {
            "bin_end": 2018.3,
            "bin_start": 2018.2,
            "count": 0
           },
           {
            "bin_end": 2018.4,
            "bin_start": 2018.3,
            "count": 0
           },
           {
            "bin_end": 2018.5,
            "bin_start": 2018.4,
            "count": 0
           }
          ],
          "max": "2018",
          "min": "2018",
          "nan_count": 0,
          "unique_count": 1
         }
        },
        {
         "dtype": "int64",
         "name": "day_of_week",
         "stats": {
          "histogram": [
           {
            "bin_end": 0.4,
            "bin_start": 0,
            "count": 1
           },
           {
            "bin_end": 0.8,
            "bin_start": 0.4,
            "count": 0
           },
           {
            "bin_end": 1.2000000000000002,
            "bin_start": 0.8,
            "count": 1
           },
           {
            "bin_end": 1.6,
            "bin_start": 1.2000000000000002,
            "count": 0
           },
           {
            "bin_end": 2,
            "bin_start": 1.6,
            "count": 0
           },
           {
            "bin_end": 2.4000000000000004,
            "bin_start": 2,
            "count": 1
           },
           {
            "bin_end": 2.8000000000000003,
            "bin_start": 2.4000000000000004,
            "count": 0
           },
           {
            "bin_end": 3.2,
            "bin_start": 2.8000000000000003,
            "count": 1
           },
           {
            "bin_end": 3.6,
            "bin_start": 3.2,
            "count": 0
           },
           {
            "bin_end": 4,
            "bin_start": 3.6,
            "count": 1
           }
          ],
          "max": "4",
          "min": "0",
          "nan_count": 0,
          "unique_count": 5
         }
        },
        {
         "dtype": "int64",
         "name": "day_of_year",
         "stats": {
          "histogram": [
           {
            "bin_end": 114.6,
            "bin_start": 114,
            "count": 1
           },
           {
            "bin_end": 115.2,
            "bin_start": 114.6,
            "count": 1
           },
           {
            "bin_end": 115.8,
            "bin_start": 115.2,
            "count": 0
           },
           {
            "bin_end": 116.4,
            "bin_start": 115.8,
            "count": 1
           },
           {
            "bin_end": 117,
            "bin_start": 116.4,
            "count": 0
           },
           {
            "bin_end": 117.6,
            "bin_start": 117,
            "count": 1
           },
           {
            "bin_end": 118.2,
            "bin_start": 117.6,
            "count": 0
           },
           {
            "bin_end": 118.8,
            "bin_start": 118.2,
            "count": 0
           },
           {
            "bin_end": 119.4,
            "bin_start": 118.8,
            "count": 0
           },
           {
            "bin_end": 120,
            "bin_start": 119.4,
            "count": 1
           }
          ],
          "max": "120",
          "min": "114",
          "nan_count": 0,
          "unique_count": 5
         }
        },
        {
         "dtype": "datetime64[ns]",
         "name": "_deepnote_index_column"
        }
       ],
       "row_count": 5,
       "rows": [
        {
         "Close": 182.65,
         "_deepnote_index_column": "2018-04-24T00:00:00.000000",
         "day_of_week": 1,
         "day_of_year": 114,
         "month": 4,
         "stock_name": "ONGC.NS",
         "year": 2018
        },
        {
         "Close": 179.45,
         "_deepnote_index_column": "2018-04-25T00:00:00.000000",
         "day_of_week": 2,
         "day_of_year": 115,
         "month": 4,
         "stock_name": "ONGC.NS",
         "year": 2018
        },
        {
         "Close": 180.8,
         "_deepnote_index_column": "2018-04-26T00:00:00.000000",
         "day_of_week": 3,
         "day_of_year": 116,
         "month": 4,
         "stock_name": "ONGC.NS",
         "year": 2018
        },
        {
         "Close": 180.7,
         "_deepnote_index_column": "2018-04-27T00:00:00.000000",
         "day_of_week": 4,
         "day_of_year": 117,
         "month": 4,
         "stock_name": "ONGC.NS",
         "year": 2018
        },
        {
         "Close": 180.55,
         "_deepnote_index_column": "2018-04-30T00:00:00.000000",
         "day_of_week": 0,
         "day_of_year": 120,
         "month": 4,
         "stock_name": "ONGC.NS",
         "year": 2018
        }
       ]
      },
      "text/html": [
       "<div>\n",
       "<style scoped>\n",
       "    .dataframe tbody tr th:only-of-type {\n",
       "        vertical-align: middle;\n",
       "    }\n",
       "\n",
       "    .dataframe tbody tr th {\n",
       "        vertical-align: top;\n",
       "    }\n",
       "\n",
       "    .dataframe thead th {\n",
       "        text-align: right;\n",
       "    }\n",
       "</style>\n",
       "<table border=\"1\" class=\"dataframe\">\n",
       "  <thead>\n",
       "    <tr style=\"text-align: right;\">\n",
       "      <th></th>\n",
       "      <th>Close</th>\n",
       "      <th>stock_name</th>\n",
       "      <th>month</th>\n",
       "      <th>year</th>\n",
       "      <th>day_of_week</th>\n",
       "      <th>day_of_year</th>\n",
       "    </tr>\n",
       "    <tr>\n",
       "      <th>Date</th>\n",
       "      <th></th>\n",
       "      <th></th>\n",
       "      <th></th>\n",
       "      <th></th>\n",
       "      <th></th>\n",
       "      <th></th>\n",
       "    </tr>\n",
       "  </thead>\n",
       "  <tbody>\n",
       "    <tr>\n",
       "      <th>2018-04-24</th>\n",
       "      <td>182.65</td>\n",
       "      <td>ONGC.NS</td>\n",
       "      <td>4</td>\n",
       "      <td>2018</td>\n",
       "      <td>1</td>\n",
       "      <td>114</td>\n",
       "    </tr>\n",
       "    <tr>\n",
       "      <th>2018-04-25</th>\n",
       "      <td>179.45</td>\n",
       "      <td>ONGC.NS</td>\n",
       "      <td>4</td>\n",
       "      <td>2018</td>\n",
       "      <td>2</td>\n",
       "      <td>115</td>\n",
       "    </tr>\n",
       "    <tr>\n",
       "      <th>2018-04-26</th>\n",
       "      <td>180.80</td>\n",
       "      <td>ONGC.NS</td>\n",
       "      <td>4</td>\n",
       "      <td>2018</td>\n",
       "      <td>3</td>\n",
       "      <td>116</td>\n",
       "    </tr>\n",
       "    <tr>\n",
       "      <th>2018-04-27</th>\n",
       "      <td>180.70</td>\n",
       "      <td>ONGC.NS</td>\n",
       "      <td>4</td>\n",
       "      <td>2018</td>\n",
       "      <td>4</td>\n",
       "      <td>117</td>\n",
       "    </tr>\n",
       "    <tr>\n",
       "      <th>2018-04-30</th>\n",
       "      <td>180.55</td>\n",
       "      <td>ONGC.NS</td>\n",
       "      <td>4</td>\n",
       "      <td>2018</td>\n",
       "      <td>0</td>\n",
       "      <td>120</td>\n",
       "    </tr>\n",
       "  </tbody>\n",
       "</table>\n",
       "</div>"
      ],
      "text/plain": [
       "             Close stock_name  month  year  day_of_week  day_of_year\n",
       "Date                                                                \n",
       "2018-04-24  182.65    ONGC.NS      4  2018            1          114\n",
       "2018-04-25  179.45    ONGC.NS      4  2018            2          115\n",
       "2018-04-26  180.80    ONGC.NS      4  2018            3          116\n",
       "2018-04-27  180.70    ONGC.NS      4  2018            4          117\n",
       "2018-04-30  180.55    ONGC.NS      4  2018            0          120"
      ]
     },
     "execution_count": 13,
     "metadata": {},
     "output_type": "execute_result"
    }
   ],
   "source": [
    "data.head()"
   ]
  },
  {
   "cell_type": "code",
   "execution_count": null,
   "metadata": {
    "cell_id": "00012-5ddd487a-03a9-45ce-b5b7-658dde609da2",
    "deepnote_cell_type": "visualization"
   },
   "outputs": [],
   "source": [
    "all_ts = data['stock_name'].unique()\n",
    "all_results = []\n",
    "final_model = {}\n",
    "\n",
    "for i in all_ts:\n",
    "    df_subset = data[data['stock_name'] == i]\n",
    "    # initialize setup from pycaret.regression\n",
    "    s = setup(df_subset, target = 'Close', train_size = 0.95, transform_target = True, data_split_shuffle = False,\n",
    "            fold_strategy = 'timeseries', fold = 5, ignore_features = ['stock_name'], numeric_features = ['day_of_year', 'year','month', 'day_of_week'],\n",
    "            silent = True, verbose = False, session_id = 2022)\n",
    "    # compare all models and select best one based on MAE\n",
    "    best_model = compare_models(sort = 'MAE', verbose=True)\n",
    "    \n",
    "    # capture the compare result grid and store best model in list\n",
    "    p = pull().iloc[0:1]\n",
    "    p['stock_name'] = str(i)\n",
    "    all_results.append(p)\n",
    "    \n",
    "    # finalize model i.e. fit on entire data including test set\n",
    "    f = finalize_model(best_model)\n",
    "    \n",
    "    # attach final model to a dictionary\n",
    "    final_model[i] = f\n",
    "    \n",
    "    # save transformation pipeline and model as pickle file \n",
    "    save_model(f, model_name='/work/NIFTY50-Stock-Analysis/models/' + str(i), verbose=False)"
   ]
  }
 ],
 "metadata": {
  "deepnote": {},
  "deepnote_execution_queue": [],
  "deepnote_notebook_id": "50f65f9a-e57b-414a-93f1-66b14193f6fe",
  "interpreter": {
   "hash": "43828d57560137c840e493fb6280f61252573f19e3a5057d8cd07e66be68987b"
  },
  "kernelspec": {
   "display_name": "Python 3.8.0 64-bit",
   "language": "python",
   "name": "python3"
  },
  "language_info": {
   "name": "python",
   "version": "3.8.0"
  },
  "orig_nbformat": 2
 },
 "nbformat": 4,
 "nbformat_minor": 2
}
